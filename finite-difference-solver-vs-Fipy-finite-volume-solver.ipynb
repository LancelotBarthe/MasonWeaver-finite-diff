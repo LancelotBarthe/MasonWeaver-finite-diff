{
 "cells": [
  {
   "cell_type": "markdown",
   "metadata": {},
   "source": [
    "# Comparison of the finite difference solver for the Mason-Weaver to Fipy finite volume solver\n",
    "\n",
    "by Lancelot Barthe and Martinus Werts, october 2020\n"
   ]
  },
  {
   "cell_type": "markdown",
   "metadata": {},
   "source": [
    "Here, we briefly compare the numerical solution of the Mason-Weaver equation obtained via our finite-difference solver to the solution from the [Fipy](https://www.ctcms.nist.gov/fipy/) finite-volume method.\n",
    "\n",
    "We evaluate the solution for one typical case, and show that the results from our solver and those from Fipy are quite close, providing a cross-check between these solvers for the Mason-Weaver equation."
   ]
  },
  {
   "cell_type": "markdown",
   "metadata": {},
   "source": [
    "This Jupyter notebook requires the [Fipy](https://www.ctcms.nist.gov/fipy/) library to be installed (in case you would like to re-evaluate the notebook), in addition to Numpy and Matplotlib. Also, the finite-difference solver module `masonweaver_FDsolver.py` is required; it should be placed in the same folder as the notebook (or on the Python search path)."
   ]
  },
  {
   "cell_type": "code",
   "execution_count": 1,
   "metadata": {},
   "outputs": [],
   "source": [
    "import sys\n",
    "from time import time\n",
    "import numpy as np\n",
    "import matplotlib.pyplot as plt\n",
    "import fipy as fp\n",
    "from masonweaver_FDsolver import MWsoln "
   ]
  },
  {
   "cell_type": "code",
   "execution_count": 2,
   "metadata": {},
   "outputs": [
    {
     "name": "stdout",
     "output_type": "stream",
     "text": [
      "Python version:  3.8.5 | packaged by conda-forge | (default, Jul 31 2020, 02:39:48) \n",
      "[GCC 7.5.0]\n"
     ]
    }
   ],
   "source": [
    "print('Python version: ', sys.version)"
   ]
  },
  {
   "cell_type": "code",
   "execution_count": 3,
   "metadata": {},
   "outputs": [
    {
     "name": "stdout",
     "output_type": "stream",
     "text": [
      "Fipy version:  3.4.2.1\n",
      "Fipy matrix solver:  <class 'fipy.solvers.petsc.linearGMRESSolver.LinearGMRESSolver'>\n"
     ]
    }
   ],
   "source": [
    "print('Fipy version: ', fp.__version__)\n",
    "print('Fipy matrix solver: ', fp.DefaultSolver)"
   ]
  },
  {
   "cell_type": "markdown",
   "metadata": {},
   "source": [
    "## Define the system"
   ]
  },
  {
   "cell_type": "markdown",
   "metadata": {},
   "source": [
    "First, define constants and the liquid and nanoparticle parameters."
   ]
  },
  {
   "cell_type": "code",
   "execution_count": 4,
   "metadata": {},
   "outputs": [],
   "source": [
    "k_B = 1.380649e-23 # Boltzmann constant [J.K^-1]\n",
    "g = 9.81 # gravitational constant [m.s^-2]\n",
    "\n",
    "T = 298. # nanoparticle's solution temperature [°K]\n",
    "phi_init = 1. # initial solution concentration [a.u. / relative concentration]\n",
    "\n",
    "rho_f = 997.086 # fluid mass density [kg.m^-3] at 298K\n",
    "eta = 0.000893 # fluid viscosity [N.m^-2.s] at 298K\n",
    "\n",
    "rho_p = 19320. # particle mass density [kg.m^-3] (GOLD)\n",
    "a = 25e-9 # spherical particle radius [m]"
   ]
  },
  {
   "cell_type": "markdown",
   "metadata": {},
   "source": [
    "Compute diffusion coefficient, sedimentation coefficient and derived parameters."
   ]
  },
  {
   "cell_type": "code",
   "execution_count": 5,
   "metadata": {},
   "outputs": [],
   "source": [
    "f = 6*np.pi*eta*a # the drag coefficient [.]\n",
    "m_b = (4/3)*np.pi*(a**3)*(rho_p-rho_f) # buoyant mass [kg]\n",
    "s = m_b / f # sedimentation coefficient [s]\n",
    "D = k_B*T/f # diffusion coefficient [m^2.s^-1]"
   ]
  },
  {
   "cell_type": "markdown",
   "metadata": {},
   "source": [
    "## Set parameters common to both finite-difference solver and Fipy"
   ]
  },
  {
   "cell_type": "markdown",
   "metadata": {},
   "source": [
    "Spatial domain settings."
   ]
  },
  {
   "cell_type": "code",
   "execution_count": 6,
   "metadata": {},
   "outputs": [],
   "source": [
    "h = 1e-2 # chamber height [m] (1 cm)\n",
    "nx = 500 # 1D domain with (nx+1) grid points (FD), or nx control volumes (FV)"
   ]
  },
  {
   "cell_type": "markdown",
   "metadata": {},
   "source": [
    "Time settings. The Mason-Weaver finite-difference solver will generate an exponentially expanding time step: small steps in the beginning, larger steps toward the end."
   ]
  },
  {
   "cell_type": "code",
   "execution_count": 7,
   "metadata": {},
   "outputs": [],
   "source": [
    "t_final = 480000. # Define simulation time [s]\n",
    "steps = 2001 # Define number of steps [.]difference"
   ]
  },
  {
   "cell_type": "markdown",
   "metadata": {},
   "source": [
    "## Finite-difference solver `masonweaver_FDsolver.py`"
   ]
  },
  {
   "cell_type": "markdown",
   "metadata": {},
   "source": [
    "First, we call the finite difference solver. This solver returns a 'solution' object, which contains the entire calculated solution, *i.e.* the evolution of the 1D concentration profile as a function of time, on the finite-difference grid."
   ]
  },
  {
   "cell_type": "code",
   "execution_count": 8,
   "metadata": {},
   "outputs": [],
   "source": [
    "T0 = time()\n",
    "soln = MWsoln(z_max=h, t_end=t_final,\n",
    "              J=nx, N=steps,\n",
    "              D=D, \n",
    "              sg=s*g)\n",
    "T_FDM = time() - T0"
   ]
  },
  {
   "cell_type": "markdown",
   "metadata": {},
   "source": [
    "## Finite volume solver: Fipy"
   ]
  },
  {
   "cell_type": "markdown",
   "metadata": {},
   "source": [
    "1. Geometry: define mesh"
   ]
  },
  {
   "cell_type": "code",
   "execution_count": 9,
   "metadata": {},
   "outputs": [],
   "source": [
    "dx = h / nx  # grid spacing\n",
    "mesh = fp.Grid1D(nx=nx, dx=dx) # linear structured grid"
   ]
  },
  {
   "cell_type": "markdown",
   "metadata": {},
   "source": [
    "2. Additional physical parameters (other parameters already defined above)"
   ]
  },
  {
   "cell_type": "code",
   "execution_count": 10,
   "metadata": {},
   "outputs": [],
   "source": [
    "v_term_scal = s*g # convection coefficient (terminal velocity) [m.s_^-1] => scalar\n",
    "v_term = (v_term_scal,) # Cast terminal velocity in vector shape "
   ]
  },
  {
   "cell_type": "markdown",
   "metadata": {},
   "source": [
    "3. Time grid\n",
    "\n",
    "For the Fipy solution, we take the same time grid as used by the finite-difference solver. We need to supply the sizesof each time step to the solver"
   ]
  },
  {
   "cell_type": "code",
   "execution_count": 11,
   "metadata": {},
   "outputs": [],
   "source": [
    "t_FVM = soln.t\n",
    "timeStepDuration = t_FVM[1:] - t_FVM[:-1]\n",
    "# check that time-steps are identical between FVM and FDM\n",
    "assert np.allclose(timeStepDuration[:], soln.t[1:]-soln.t[:-1]), 'Incompatible time grids'"
   ]
  },
  {
   "cell_type": "markdown",
   "metadata": {},
   "source": [
    "4. Cell variable, initial condition"
   ]
  },
  {
   "cell_type": "code",
   "execution_count": 12,
   "metadata": {},
   "outputs": [],
   "source": [
    "phi = fp.CellVariable(name=\"Concentration\",\n",
    "                      mesh = mesh, value = phi_init )"
   ]
  },
  {
   "cell_type": "markdown",
   "metadata": {},
   "source": [
    "5. Boundary conditions\n",
    "\n",
    "We use the intrinsic no flux boundary conditions in Fipy.\n",
    "\n",
    "These are used by Fipy by default."
   ]
  },
  {
   "cell_type": "code",
   "execution_count": 13,
   "metadata": {},
   "outputs": [
    {
     "name": "stdout",
     "output_type": "stream",
     "text": [
      " Default No Flux conditions are being used in this case \n"
     ]
    }
   ],
   "source": [
    "print(' Default No Flux conditions are being used in this case ')"
   ]
  },
  {
   "cell_type": "markdown",
   "metadata": {},
   "source": [
    "6. Define the PDE (Mason-Weaver diffusion-sedimentation)"
   ]
  },
  {
   "cell_type": "code",
   "execution_count": 14,
   "metadata": {},
   "outputs": [],
   "source": [
    "eqX = fp.TransientTerm() == fp.DiffusionTerm(coeff=D) \\\n",
    "                            + fp.ExponentialConvectionTerm(coeff=v_term)"
   ]
  },
  {
   "cell_type": "markdown",
   "metadata": {},
   "source": [
    "7. Now, go solve, Fipy."
   ]
  },
  {
   "cell_type": "code",
   "execution_count": 15,
   "metadata": {},
   "outputs": [],
   "source": [
    "# reserve space for storing Fipy solution\n",
    "phi_sol = np.zeros([nx,steps]) # Initialize concentration solution vector as a function of time and space"
   ]
  },
  {
   "cell_type": "code",
   "execution_count": 16,
   "metadata": {},
   "outputs": [],
   "source": [
    "#%% Solve PDE and store solution\n",
    "T0 = time()\n",
    "phi_sol[:,0] = phi.value # Store initial concentraton \n",
    "for step in range(1,steps):\n",
    "    eqX.solve(var=phi, dt=timeStepDuration[step-1])\n",
    "    phi_sol[:,step]=phi.value\n",
    "T_FVM = time() - T0"
   ]
  },
  {
   "cell_type": "markdown",
   "metadata": {},
   "source": [
    "## Comparison of present finite-difference solver to Fipy finite volume solver"
   ]
  },
  {
   "cell_type": "code",
   "execution_count": 17,
   "metadata": {},
   "outputs": [
    {
     "name": "stdout",
     "output_type": "stream",
     "text": [
      "Finite-difference computation time : 1.43 s\n",
      "Fipy finite-volume computation time: 19.00 s\n"
     ]
    }
   ],
   "source": [
    "print('Finite-difference computation time : {0:.2f} s'.format(T_FDM))\n",
    "print('Fipy finite-volume computation time: {0:.2f} s'.format(T_FVM))"
   ]
  },
  {
   "cell_type": "markdown",
   "metadata": {},
   "source": [
    "With the results for both solvers stored in memory, we are in a position to compare both solvers.\n",
    "\n",
    "First, we extract the spatial coordinates (1D: height) and time points for both methods to allow direct comparison"
   ]
  },
  {
   "cell_type": "code",
   "execution_count": 18,
   "metadata": {},
   "outputs": [],
   "source": [
    "x_FDM = soln.z\n",
    "x_FVM = mesh.cellCenters[0].value "
   ]
  },
  {
   "cell_type": "code",
   "execution_count": 19,
   "metadata": {},
   "outputs": [],
   "source": [
    "t_FDM = soln.t"
   ]
  },
  {
   "cell_type": "markdown",
   "metadata": {},
   "source": [
    "The finite-difference solution 'samples' the solution at the boundaries and at evenly spaced points between them, whereas the finite-volume solution gives the average concentration in each volume element (cell), best considered at the center of of each cell.\n",
    "\n",
    "In order to compare both, we interpolate the finite-difference solution (zero-order polynomial) to obtain the values at the positions of the finite-volume cell centers."
   ]
  },
  {
   "cell_type": "code",
   "execution_count": 20,
   "metadata": {},
   "outputs": [],
   "source": [
    "soln.c_resample = (soln.c[:-1,:] + soln.c[1:,:])/2\n",
    "soln.z_resample = (soln.z[:-1] + soln.z[1:])/2"
   ]
  },
  {
   "cell_type": "markdown",
   "metadata": {},
   "source": [
    "Check that the interpolated finite-difference solution point coincide with the finite volume cell centers."
   ]
  },
  {
   "cell_type": "code",
   "execution_count": 21,
   "metadata": {},
   "outputs": [],
   "source": [
    "assert np.allclose(soln.z_resample, x_FVM), \"Incompatible grids\""
   ]
  },
  {
   "cell_type": "markdown",
   "metadata": {},
   "source": [
    "Create references with coherent names, in order to facilitate further handling of data."
   ]
  },
  {
   "cell_type": "code",
   "execution_count": 22,
   "metadata": {},
   "outputs": [],
   "source": [
    "phi_sol_FDM = soln.c_resample\n",
    "x_FDM = soln.z_resample"
   ]
  },
  {
   "cell_type": "markdown",
   "metadata": {},
   "source": [
    "### (Numerical) mass conservation"
   ]
  },
  {
   "cell_type": "markdown",
   "metadata": {},
   "source": [
    "As expected, Fipy's finite-volume method beautifully conserves mass (when using the default 'no flux' boundary conditions).\n",
    "\n",
    "As already mentioned in our paper ([doi:10.1002/ppsc.201700095](https://doi.org/10.1002/ppsc.201700095)), the finite-difference solver has a slight mass increase, which levels off as the equilibrium steady-state solution is reached."
   ]
  },
  {
   "cell_type": "code",
   "execution_count": 23,
   "metadata": {},
   "outputs": [],
   "source": [
    "mass_cons_FDM = np.zeros(steps)\n",
    "mass_cons_FVM = np.zeros(steps)\n",
    "\n",
    "for i in range (0,steps):\n",
    "    mass_cons_FVM[i] = np.sum(phi_sol[:,i])\n",
    "    mass_cons_FDM[i] = np.sum(phi_sol_FDM[:,i])    "
   ]
  },
  {
   "cell_type": "code",
   "execution_count": 24,
   "metadata": {},
   "outputs": [
    {
     "data": {
      "text/plain": [
       "(460.0, 540.0)"
      ]
     },
     "execution_count": 24,
     "metadata": {},
     "output_type": "execute_result"
    },
    {
     "data": {
      "image/png": "[encoded data removed]",
      "text/plain": [
       "<Figure size 432x288 with 1 Axes>"
      ]
     },
     "metadata": {
      "needs_background": "light"
     },
     "output_type": "display_data"
    }
   ],
   "source": [
    "plt.plot(t_FVM[:-1], mass_cons_FVM,'g', label='FVM')\n",
    "plt.plot(t_FDM[:-1], mass_cons_FDM,'b', label='FDM')\n",
    "plt.xlabel('Time [s]')\n",
    "plt.ylabel('total numerical mass')\n",
    "plt.title('Mass conservation test')\n",
    "plt.legend()\n",
    "plt.ylim(460.0, 540.0)"
   ]
  },
  {
   "cell_type": "markdown",
   "metadata": {},
   "source": [
    "### Direct comparison of selected concentration profiles at different times"
   ]
  },
  {
   "cell_type": "markdown",
   "metadata": {},
   "source": [
    "Initial condition:\n",
    "\n",
    "Perfect agreement between both methods! :-)"
   ]
  },
  {
   "cell_type": "code",
   "execution_count": 25,
   "metadata": {},
   "outputs": [
    {
     "data": {
      "text/plain": [
       "(0.0, 0.01)"
      ]
     },
     "execution_count": 25,
     "metadata": {},
     "output_type": "execute_result"
    },
    {
     "data": {
      "image/png": "[encoded data removed]",
      "text/plain": [
       "<Figure size 432x288 with 1 Axes>"
      ]
     },
     "metadata": {
      "needs_background": "light"
     },
     "output_type": "display_data"
    }
   ],
   "source": [
    "plt.plot(x_FVM, phi_sol[:,0], 'g',label = \"FVM\")\n",
    "plt.plot(x_FDM[:], phi_sol_FDM[:,0],'b',label = \"FDM\")\n",
    "plt.xlabel('Height / m')\n",
    "plt.ylabel('Rel. concentration / a.u.')\n",
    "plt.legend()\n",
    "plt.ylim(0.0,6.0)\n",
    "plt.xlim(0.0,h)"
   ]
  },
  {
   "cell_type": "markdown",
   "metadata": {},
   "source": [
    "Intermediate (transient) solutions:\n",
    "\n",
    "The curves between FD and Fipy are almost identical (perfect overlap when displaying on screen). See below for relative deviation between both methods"
   ]
  },
  {
   "cell_type": "code",
   "execution_count": 26,
   "metadata": {},
   "outputs": [
    {
     "data": {
      "text/plain": [
       "(0.0, 0.01)"
      ]
     },
     "execution_count": 26,
     "metadata": {},
     "output_type": "execute_result"
    },
    {
     "data": {
      "image/png": "[encoded data removed]",
      "text/plain": [
       "<Figure size 432x288 with 1 Axes>"
      ]
     },
     "metadata": {
      "needs_background": "light"
     },
     "output_type": "display_data"
    }
   ],
   "source": [
    "plt.plot(x_FVM, phi_sol[:,500], 'g',label = \"FVM (1/4)\")\n",
    "plt.plot(x_FDM[:], phi_sol_FDM[:,500],'b',label = \"FDM (1/4)\")\n",
    "plt.plot(x_FVM, phi_sol[:,1000], 'g',label = \"FVM (2/4)\")\n",
    "plt.plot(x_FDM[:], phi_sol_FDM[:,1000],'b',label = \"FDM (2/4)\")\n",
    "plt.plot(x_FVM, phi_sol[:,1500], 'g',label = \"FVM (3/4)\")\n",
    "plt.plot(x_FDM[:], phi_sol_FDM[:,1500],'b',label = \"FDM (3/4)\")\n",
    "\n",
    "plt.xlabel('Height / m')\n",
    "plt.ylabel('Rel. concentration / a.u.')\n",
    "plt.legend()\n",
    "plt.ylim(0.0,6.0)\n",
    "plt.xlim(0.0,h)"
   ]
  },
  {
   "cell_type": "markdown",
   "metadata": {},
   "source": [
    "Last calculated time-point (close to equilibrium, but not quite yet):"
   ]
  },
  {
   "cell_type": "code",
   "execution_count": 27,
   "metadata": {},
   "outputs": [
    {
     "data": {
      "text/plain": [
       "(0.0, 0.01)"
      ]
     },
     "execution_count": 27,
     "metadata": {},
     "output_type": "execute_result"
    },
    {
     "data": {
      "image/png": "[encoded data removed]",
      "text/plain": [
       "<Figure size 432x288 with 1 Axes>"
      ]
     },
     "metadata": {
      "needs_background": "light"
     },
     "output_type": "display_data"
    }
   ],
   "source": [
    "plt.plot(x_FVM, phi_sol[:,-1], 'g',label = \"FVM\")\n",
    "plt.plot(x_FDM[:], phi_sol_FDM[:,-1],'b',label = \"FDM\")\n",
    "\n",
    "plt.xlabel('Height / m')\n",
    "plt.ylabel('Rel. concentration / a.u.')\n",
    "plt.legend()\n",
    "plt.ylim(ymin = 0.0)\n",
    "plt.xlim(0.0,h)"
   ]
  },
  {
   "cell_type": "markdown",
   "metadata": {},
   "source": [
    "We can see the small differences between FDM and FVM solutions by calculating the relative deviation between the two."
   ]
  },
  {
   "cell_type": "code",
   "execution_count": 28,
   "metadata": {},
   "outputs": [],
   "source": [
    "eps_500 = (phi_sol_FDM[0:nx,500] - phi_sol[:,500])/phi_sol_FDM[0:nx,500]\n",
    "eps_1000 = (phi_sol_FDM[0:nx,1000] - phi_sol[:,1000])/phi_sol_FDM[0:nx,1000]\n",
    "eps_1500 = (phi_sol_FDM[0:nx,1500] - phi_sol[:,1500])/phi_sol_FDM[0:nx,1500]\n",
    "eps_2000 = (phi_sol_FDM[0:nx,2000] - phi_sol[:,2000])/phi_sol_FDM[0:nx,2000]\n",
    "eps_final = (phi_sol_FDM[0:nx,-1] - phi_sol[:,-1])/phi_sol_FDM[0:nx,-1]"
   ]
  },
  {
   "cell_type": "code",
   "execution_count": 29,
   "metadata": {},
   "outputs": [
    {
     "data": {
      "text/plain": [
       "<matplotlib.legend.Legend at 0x7fb14d18d8b0>"
      ]
     },
     "execution_count": 29,
     "metadata": {},
     "output_type": "execute_result"
    },
    {
     "data": {
      "image/png": "[encoded data removed]",
      "text/plain": [
       "<Figure size 432x288 with 1 Axes>"
      ]
     },
     "metadata": {
      "needs_background": "light"
     },
     "output_type": "display_data"
    }
   ],
   "source": [
    "plt.plot(x_FVM[1:-1],eps_500[1:-1]*100.,'k',label='FVM vs FDM (1/4)')\n",
    "plt.plot(x_FVM[1:-1],eps_1000[1:-1]*100.,'r',label='FVM vs FDM (2/4)')\n",
    "plt.plot(x_FVM[1:-1],eps_1500[1:-1]*100.,'b',label='FVM vs FDM (3/4)')\n",
    "plt.title('Relative Deviation, in percent, between FVM and FDM')\n",
    "plt.xlabel('height / m')\n",
    "plt.ylabel('Relative Deviation in % $[.]$')\n",
    "plt.legend()"
   ]
  },
  {
   "cell_type": "markdown",
   "metadata": {},
   "source": [
    "At the final time, the relative deviation clearly shows the numerical mass increase in the finite-difference scheme. Note that the relative deviation 'exaggerates' the deviation between both curves: the largest deviations occur in areas where the solution variable is close to zero."
   ]
  },
  {
   "cell_type": "code",
   "execution_count": 30,
   "metadata": {},
   "outputs": [
    {
     "data": {
      "text/plain": [
       "<matplotlib.legend.Legend at 0x7fb14d2a1a00>"
      ]
     },
     "execution_count": 30,
     "metadata": {},
     "output_type": "execute_result"
    },
    {
     "data": {
      "image/png": "[encoded data removed]",
      "text/plain": [
       "<Figure size 432x288 with 1 Axes>"
      ]
     },
     "metadata": {
      "needs_background": "light"
     },
     "output_type": "display_data"
    }
   ],
   "source": [
    "plt.plot(x_FVM[1:-1],eps_final[1:-1]*100.,'b',label='FVM vs FDM')\n",
    "plt.title('Relative Deviation, in percent, between FVM and FDM at the final time ')\n",
    "plt.xlabel('Height of the Cell $[m]$')\n",
    "plt.ylabel('Relative Deviation in % $[.]$')\n",
    "plt.legend()"
   ]
  },
  {
   "cell_type": "markdown",
   "metadata": {},
   "source": [
    "## Conclusion\n",
    "\n",
    "For this typical case, there is close agreement between the numerical solutions of the Mason-Weaver problem obtained via our finite-difference solver and Fipy, respectively.\n",
    "\n",
    "It may very well be possible to change the physical and computational parameters in this notebook and study the behaviour of both solvers in other cases."
   ]
  }
 ],
 "metadata": {
  "kernelspec": {
   "display_name": "Python 3",
   "language": "python",
   "name": "python3"
  },
  "language_info": {
   "codemirror_mode": {
    "name": "ipython",
    "version": 3
   },
   "file_extension": ".py",
   "mimetype": "text/x-python",
   "name": "python",
   "nbconvert_exporter": "python",
   "pygments_lexer": "ipython3",
   "version": "3.8.5"
  }
 },
 "nbformat": 4,
 "nbformat_minor": 4
}
